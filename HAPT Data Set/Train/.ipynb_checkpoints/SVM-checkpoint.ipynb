{
 "cells": [
  {
   "cell_type": "code",
   "execution_count": 10,
   "metadata": {},
   "outputs": [],
   "source": [
    "import numpy as np\n",
    "import matplotlib\n",
    "import matplotlib.pyplot as plt\n",
    "%matplotlib inline\n",
    "from sklearn.metrics.pairwise import pairwise_kernels\n",
    "import scipy\n",
    "from sklearn import svm, linear_model\n",
    "from sklearn.model_selection import GridSearchCV\n",
    "import time\n",
    "import pandas as pd"
   ]
  },
  {
   "cell_type": "code",
   "execution_count": 42,
   "metadata": {},
   "outputs": [
    {
     "name": "stdout",
     "output_type": "stream",
     "text": [
      "(7767,)\n",
      "(3162,)\n",
      "[LibSVM][5 5 5 ... 2 2 2]\n",
      "Accuaracy = 0.948767\n"
     ]
    }
   ],
   "source": [
    "nameFile = open(\"features.txt\")\n",
    "nameList = []\n",
    "for name in nameFile:\n",
    "    name = name.strip()\n",
    "    if name not in nameList:\n",
    "        nameList.append(name)\n",
    "    else:\n",
    "        print(name, \"is duplicate\")\n",
    "\n",
    "    \n",
    "X_train = pd.read_csv(\"cleaned_X_train.csv\", names = nameList)\n",
    "X_test = pd.read_csv(\"cleaned_X_test.csv\", names = nameList)\n",
    "\n",
    "\n",
    "y_train = pd.read_csv(\"y_train.csv\", names = [\"Action\"])\n",
    "y_test = pd.read_csv(\"y_test.csv\", names = [\"Action\"])\n",
    "y_train = np.ravel(y_train)\n",
    "print(y_train.shape)\n",
    "y_test = np.ravel(y_test)\n",
    "print(y_test.shape)\n",
    "svc = svm.SVC(probability=False,  kernel=\"rbf\", C=10, gamma=.05,verbose=10)\n",
    "svc.fit(X_train, y_train)\n",
    "\n",
    "yhat_ts = svc.predict(X_test)\n",
    "\n",
    "\n",
    "\n",
    "\n",
    "\n",
    "acc = np.mean(yhat_ts == y_test)\n",
    "print('Accuaracy = {0:f}'.format(acc))\n",
    "\n"
   ]
  },
  {
   "cell_type": "code",
   "execution_count": 33,
   "metadata": {},
   "outputs": [
    {
     "name": "stderr",
     "output_type": "stream",
     "text": [
      "D:\\anaconda\\lib\\site-packages\\sklearn\\utils\\validation.py:724: DataConversionWarning: A column-vector y was passed when a 1d array was expected. Please change the shape of y to (n_samples, ), for example using ravel().\n",
      "  y = column_or_1d(y, warn=True)\n"
     ]
    },
    {
     "name": "stdout",
     "output_type": "stream",
     "text": [
      "[LibSVM]"
     ]
    },
    {
     "data": {
      "text/plain": [
       "SVC(C=10, cache_size=200, class_weight=None, coef0=0.0,\n",
       "    decision_function_shape='ovr', degree=3, gamma=0.05, kernel='rbf',\n",
       "    max_iter=-1, probability=False, random_state=None, shrinking=True,\n",
       "    tol=0.001, verbose=10)"
      ]
     },
     "execution_count": 33,
     "metadata": {},
     "output_type": "execute_result"
    }
   ],
   "source": []
  },
  {
   "cell_type": "code",
   "execution_count": null,
   "metadata": {},
   "outputs": [],
   "source": []
  }
 ],
 "metadata": {
  "kernelspec": {
   "display_name": "Python 3",
   "language": "python",
   "name": "python3"
  },
  "language_info": {
   "codemirror_mode": {
    "name": "ipython",
    "version": 3
   },
   "file_extension": ".py",
   "mimetype": "text/x-python",
   "name": "python",
   "nbconvert_exporter": "python",
   "pygments_lexer": "ipython3",
   "version": "3.7.4"
  }
 },
 "nbformat": 4,
 "nbformat_minor": 2
}
