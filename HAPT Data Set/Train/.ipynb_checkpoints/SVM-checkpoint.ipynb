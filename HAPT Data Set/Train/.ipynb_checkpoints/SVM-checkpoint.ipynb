{
 "cells": [
  {
   "cell_type": "code",
   "execution_count": 3,
   "metadata": {},
   "outputs": [],
   "source": [
    "import numpy as np\n",
    "import matplotlib\n",
    "import matplotlib.pyplot as plt\n",
    "%matplotlib inline\n",
    "from sklearn.metrics.pairwise import pairwise_kernels\n",
    "import scipy\n",
    "from sklearn import svm, linear_model\n",
    "from sklearn.model_selection import GridSearchCV\n",
    "import time\n",
    "import pandas as pd\n",
    "from sklearn import datasets\n",
    "from sklearn.model_selection import train_test_split\n",
    "from sklearn.model_selection import GridSearchCV\n",
    "from sklearn.metrics import classification_report\n",
    "from sklearn.svm import SVC"
   ]
  },
  {
   "cell_type": "code",
   "execution_count": 9,
   "metadata": {},
   "outputs": [
    {
     "name": "stdout",
     "output_type": "stream",
     "text": [
      "[LibSVM]Accuaracy = 0.948767\n"
     ]
    }
   ],
   "source": [
    "nameFile = open(\"features.txt\")\n",
    "nameList = []\n",
    "for feature in nameFile:\n",
    "    feature = feature.strip()\n",
    "    nameList.append(feature)\n",
    "\n",
    "    \n",
    "X_train = pd.read_csv(\"cleaned_X_train.csv\", names = nameList)\n",
    "X_test = pd.read_csv(\"cleaned_X_test.csv\", names = nameList)\n",
    "\n",
    "\n",
    "y_train = pd.read_csv(\"y_train.csv\", names = [\"Action\"])\n",
    "y_test = pd.read_csv(\"y_test.csv\", names = [\"Action\"])\n",
    "y_train = y_train.values.ravel()\n",
    "y_test = y_test.values.ravel()\n",
    "\n",
    "\n",
    "svc = svm.SVC(probability=False,  kernel=\"rbf\", C=10, gamma=.05,verbose=10)\n",
    "svc.fit(X_train, y_train)\n",
    "\n",
    "yhat_ts = svc.predict(X_test)\n",
    "\n",
    "\n",
    "\n",
    "\n",
    "\n",
    "acc = np.mean(yhat_ts == y_test)\n",
    "print('Accuaracy = {0:f}'.format(acc))\n",
    "\n"
   ]
  },
  {
   "cell_type": "code",
   "execution_count": 10,
   "metadata": {},
   "outputs": [
    {
     "data": {
      "text/plain": [
       "<matplotlib.legend.Legend at 0x1ac25e61748>"
      ]
     },
     "execution_count": 10,
     "metadata": {},
     "output_type": "execute_result"
    },
    {
     "data": {
      "image/png": "[encoded data removed]",
      "text/plain": [
       "<Figure size 432x288 with 1 Axes>"
      ]
     },
     "metadata": {
      "needs_background": "light"
     },
     "output_type": "display_data"
    }
   ],
   "source": [
    "plt.plot(y_test,'-')\n",
    "plt.plot(yhat_ts,'-')\n",
    "plt.grid(True)\n",
    "plt.legend(['ytest','ypred'])"
   ]
  },
  {
   "cell_type": "code",
   "execution_count": 12,
   "metadata": {},
   "outputs": [
    {
     "name": "stdout",
     "output_type": "stream",
     "text": [
      "# Tuning hyper-parameters for precision\n",
      "\n"
     ]
    },
    {
     "name": "stderr",
     "output_type": "stream",
     "text": [
      "D:\\anaconda\\lib\\site-packages\\sklearn\\model_selection\\_split.py:1978: FutureWarning: The default value of cv will change from 3 to 5 in version 0.22. Specify it explicitly to silence this warning.\n",
      "  warnings.warn(CV_WARNING, FutureWarning)\n",
      "D:\\anaconda\\lib\\site-packages\\sklearn\\metrics\\classification.py:1437: UndefinedMetricWarning: Precision is ill-defined and being set to 0.0 in labels with no predicted samples.\n",
      "  'precision', 'predicted', average, warn_for)\n",
      "D:\\anaconda\\lib\\site-packages\\sklearn\\metrics\\classification.py:1437: UndefinedMetricWarning: Precision is ill-defined and being set to 0.0 in labels with no predicted samples.\n",
      "  'precision', 'predicted', average, warn_for)\n",
      "D:\\anaconda\\lib\\site-packages\\sklearn\\metrics\\classification.py:1437: UndefinedMetricWarning: Precision is ill-defined and being set to 0.0 in labels with no predicted samples.\n",
      "  'precision', 'predicted', average, warn_for)\n",
      "D:\\anaconda\\lib\\site-packages\\sklearn\\metrics\\classification.py:1437: UndefinedMetricWarning: Precision is ill-defined and being set to 0.0 in labels with no predicted samples.\n",
      "  'precision', 'predicted', average, warn_for)\n",
      "D:\\anaconda\\lib\\site-packages\\sklearn\\metrics\\classification.py:1437: UndefinedMetricWarning: Precision is ill-defined and being set to 0.0 in labels with no predicted samples.\n",
      "  'precision', 'predicted', average, warn_for)\n",
      "D:\\anaconda\\lib\\site-packages\\sklearn\\metrics\\classification.py:1437: UndefinedMetricWarning: Precision is ill-defined and being set to 0.0 in labels with no predicted samples.\n",
      "  'precision', 'predicted', average, warn_for)\n",
      "D:\\anaconda\\lib\\site-packages\\sklearn\\metrics\\classification.py:1437: UndefinedMetricWarning: Precision is ill-defined and being set to 0.0 in labels with no predicted samples.\n",
      "  'precision', 'predicted', average, warn_for)\n",
      "D:\\anaconda\\lib\\site-packages\\sklearn\\metrics\\classification.py:1437: UndefinedMetricWarning: Precision is ill-defined and being set to 0.0 in labels with no predicted samples.\n",
      "  'precision', 'predicted', average, warn_for)\n",
      "D:\\anaconda\\lib\\site-packages\\sklearn\\metrics\\classification.py:1437: UndefinedMetricWarning: Precision is ill-defined and being set to 0.0 in labels with no predicted samples.\n",
      "  'precision', 'predicted', average, warn_for)\n",
      "D:\\anaconda\\lib\\site-packages\\sklearn\\metrics\\classification.py:1437: UndefinedMetricWarning: Precision is ill-defined and being set to 0.0 in labels with no predicted samples.\n",
      "  'precision', 'predicted', average, warn_for)\n",
      "D:\\anaconda\\lib\\site-packages\\sklearn\\metrics\\classification.py:1437: UndefinedMetricWarning: Precision is ill-defined and being set to 0.0 in labels with no predicted samples.\n",
      "  'precision', 'predicted', average, warn_for)\n",
      "D:\\anaconda\\lib\\site-packages\\sklearn\\metrics\\classification.py:1437: UndefinedMetricWarning: Precision is ill-defined and being set to 0.0 in labels with no predicted samples.\n",
      "  'precision', 'predicted', average, warn_for)\n",
      "D:\\anaconda\\lib\\site-packages\\sklearn\\metrics\\classification.py:1437: UndefinedMetricWarning: Precision is ill-defined and being set to 0.0 in labels with no predicted samples.\n",
      "  'precision', 'predicted', average, warn_for)\n",
      "D:\\anaconda\\lib\\site-packages\\sklearn\\metrics\\classification.py:1437: UndefinedMetricWarning: Precision is ill-defined and being set to 0.0 in labels with no predicted samples.\n",
      "  'precision', 'predicted', average, warn_for)\n",
      "D:\\anaconda\\lib\\site-packages\\sklearn\\metrics\\classification.py:1437: UndefinedMetricWarning: Precision is ill-defined and being set to 0.0 in labels with no predicted samples.\n",
      "  'precision', 'predicted', average, warn_for)\n",
      "D:\\anaconda\\lib\\site-packages\\sklearn\\metrics\\classification.py:1437: UndefinedMetricWarning: Precision is ill-defined and being set to 0.0 in labels with no predicted samples.\n",
      "  'precision', 'predicted', average, warn_for)\n",
      "D:\\anaconda\\lib\\site-packages\\sklearn\\metrics\\classification.py:1437: UndefinedMetricWarning: Precision is ill-defined and being set to 0.0 in labels with no predicted samples.\n",
      "  'precision', 'predicted', average, warn_for)\n",
      "D:\\anaconda\\lib\\site-packages\\sklearn\\metrics\\classification.py:1437: UndefinedMetricWarning: Precision is ill-defined and being set to 0.0 in labels with no predicted samples.\n",
      "  'precision', 'predicted', average, warn_for)\n",
      "D:\\anaconda\\lib\\site-packages\\sklearn\\metrics\\classification.py:1437: UndefinedMetricWarning: Precision is ill-defined and being set to 0.0 in labels with no predicted samples.\n",
      "  'precision', 'predicted', average, warn_for)\n",
      "D:\\anaconda\\lib\\site-packages\\sklearn\\metrics\\classification.py:1437: UndefinedMetricWarning: Precision is ill-defined and being set to 0.0 in labels with no predicted samples.\n",
      "  'precision', 'predicted', average, warn_for)\n",
      "D:\\anaconda\\lib\\site-packages\\sklearn\\metrics\\classification.py:1437: UndefinedMetricWarning: Precision is ill-defined and being set to 0.0 in labels with no predicted samples.\n",
      "  'precision', 'predicted', average, warn_for)\n"
     ]
    },
    {
     "name": "stdout",
     "output_type": "stream",
     "text": [
      "Best parameters set found on development set:\n",
      "\n",
      "{'C': 100, 'gamma': 0.001, 'kernel': 'rbf'}\n",
      "\n",
      "Grid scores on development set:\n",
      "\n",
      "0.536 (+/-0.034) for {'C': 1, 'gamma': 0.001, 'kernel': 'rbf'}\n",
      "0.402 (+/-0.011) for {'C': 1, 'gamma': 0.0001, 'kernel': 'rbf'}\n",
      "0.848 (+/-0.078) for {'C': 10, 'gamma': 0.001, 'kernel': 'rbf'}\n",
      "0.579 (+/-0.090) for {'C': 10, 'gamma': 0.0001, 'kernel': 'rbf'}\n",
      "0.855 (+/-0.085) for {'C': 100, 'gamma': 0.001, 'kernel': 'rbf'}\n",
      "0.848 (+/-0.077) for {'C': 100, 'gamma': 0.0001, 'kernel': 'rbf'}\n",
      "0.852 (+/-0.061) for {'C': 1000, 'gamma': 0.001, 'kernel': 'rbf'}\n",
      "0.848 (+/-0.091) for {'C': 1000, 'gamma': 0.0001, 'kernel': 'rbf'}\n",
      "0.842 (+/-0.061) for {'C': 1, 'kernel': 'linear'}\n",
      "0.840 (+/-0.060) for {'C': 10, 'kernel': 'linear'}\n",
      "0.840 (+/-0.059) for {'C': 100, 'kernel': 'linear'}\n",
      "0.840 (+/-0.059) for {'C': 1000, 'kernel': 'linear'}\n",
      "0.492 (+/-0.087) for {'gamma': 0.001, 'kernel': 'sigmoid'}\n",
      "0.300 (+/-0.073) for {'gamma': 0.0001, 'kernel': 'sigmoid'}\n",
      "0.537 (+/-0.021) for {'gamma': 0.002, 'kernel': 'sigmoid'}\n",
      "0.402 (+/-0.012) for {'gamma': 0.0002, 'kernel': 'sigmoid'}\n",
      "\n",
      "Detailed classification report:\n",
      "\n",
      "The model is trained on the full development set.\n",
      "The scores are computed on the full evaluation set.\n",
      "\n",
      "              precision    recall  f1-score   support\n",
      "\n",
      "           1       0.95      0.99      0.97       496\n",
      "           2       0.98      0.96      0.97       471\n",
      "           3       0.99      0.97      0.98       420\n",
      "           4       0.96      0.90      0.93       508\n",
      "           5       0.91      0.97      0.94       556\n",
      "           6       1.00      1.00      1.00       545\n",
      "           7       1.00      0.83      0.90        23\n",
      "           8       0.91      1.00      0.95        10\n",
      "           9       0.68      0.78      0.72        32\n",
      "          10       0.70      0.76      0.73        25\n",
      "          11       0.76      0.69      0.72        49\n",
      "          12       0.73      0.59      0.65        27\n",
      "\n",
      "    accuracy                           0.95      3162\n",
      "   macro avg       0.88      0.87      0.87      3162\n",
      "weighted avg       0.95      0.95      0.95      3162\n",
      "\n",
      "\n",
      "# Tuning hyper-parameters for recall\n",
      "\n"
     ]
    },
    {
     "name": "stderr",
     "output_type": "stream",
     "text": [
      "D:\\anaconda\\lib\\site-packages\\sklearn\\model_selection\\_split.py:1978: FutureWarning: The default value of cv will change from 3 to 5 in version 0.22. Specify it explicitly to silence this warning.\n",
      "  warnings.warn(CV_WARNING, FutureWarning)\n"
     ]
    },
    {
     "name": "stdout",
     "output_type": "stream",
     "text": [
      "Best parameters set found on development set:\n",
      "\n",
      "{'C': 100, 'gamma': 0.001, 'kernel': 'rbf'}\n",
      "\n",
      "Grid scores on development set:\n",
      "\n",
      "0.587 (+/-0.022) for {'C': 1, 'gamma': 0.001, 'kernel': 'rbf'}\n",
      "0.374 (+/-0.008) for {'C': 1, 'gamma': 0.0001, 'kernel': 'rbf'}\n",
      "0.814 (+/-0.073) for {'C': 10, 'gamma': 0.001, 'kernel': 'rbf'}\n",
      "0.591 (+/-0.016) for {'C': 10, 'gamma': 0.0001, 'kernel': 'rbf'}\n",
      "0.843 (+/-0.068) for {'C': 100, 'gamma': 0.001, 'kernel': 'rbf'}\n",
      "0.814 (+/-0.072) for {'C': 100, 'gamma': 0.0001, 'kernel': 'rbf'}\n",
      "0.841 (+/-0.044) for {'C': 1000, 'gamma': 0.001, 'kernel': 'rbf'}\n",
      "0.839 (+/-0.076) for {'C': 1000, 'gamma': 0.0001, 'kernel': 'rbf'}\n",
      "0.832 (+/-0.050) for {'C': 1, 'kernel': 'linear'}\n",
      "0.831 (+/-0.049) for {'C': 10, 'kernel': 'linear'}\n",
      "0.830 (+/-0.048) for {'C': 100, 'kernel': 'linear'}\n",
      "0.830 (+/-0.048) for {'C': 1000, 'kernel': 'linear'}\n",
      "0.499 (+/-0.031) for {'gamma': 0.001, 'kernel': 'sigmoid'}\n",
      "0.264 (+/-0.009) for {'gamma': 0.0001, 'kernel': 'sigmoid'}\n",
      "0.571 (+/-0.036) for {'gamma': 0.002, 'kernel': 'sigmoid'}\n",
      "0.374 (+/-0.008) for {'gamma': 0.0002, 'kernel': 'sigmoid'}\n",
      "\n",
      "Detailed classification report:\n",
      "\n",
      "The model is trained on the full development set.\n",
      "The scores are computed on the full evaluation set.\n",
      "\n",
      "              precision    recall  f1-score   support\n",
      "\n",
      "           1       0.95      0.99      0.97       496\n",
      "           2       0.98      0.96      0.97       471\n",
      "           3       0.99      0.97      0.98       420\n",
      "           4       0.96      0.90      0.93       508\n",
      "           5       0.91      0.97      0.94       556\n",
      "           6       1.00      1.00      1.00       545\n",
      "           7       1.00      0.83      0.90        23\n",
      "           8       0.91      1.00      0.95        10\n",
      "           9       0.68      0.78      0.72        32\n",
      "          10       0.70      0.76      0.73        25\n",
      "          11       0.76      0.69      0.72        49\n",
      "          12       0.73      0.59      0.65        27\n",
      "\n",
      "    accuracy                           0.95      3162\n",
      "   macro avg       0.88      0.87      0.87      3162\n",
      "weighted avg       0.95      0.95      0.95      3162\n",
      "\n",
      "\n"
     ]
    }
   ],
   "source": [
    "tuned_parameters = [{'kernel': ['rbf'], 'gamma': [1e-3, 1e-4],\n",
    "                     'C': [1, 10, 100, 1000]},\n",
    "                    {'kernel': ['linear'], 'C': [1, 10, 100, 1000]}, \n",
    "                   {'kernel': ['sigmoid'], 'gamma': [1e-3, 1e-4, 2e-3, 2e-4]}]\n",
    "\n",
    "scores = ['precision', 'recall']\n",
    "\n",
    "for score in scores:\n",
    "    print(\"# Tuning hyper-parameters for %s\" % score)\n",
    "    print()\n",
    "\n",
    "    clf = GridSearchCV(\n",
    "        SVC(), tuned_parameters, scoring='%s_macro' % score\n",
    "    )\n",
    "    clf.fit(X_train, y_train)\n",
    "\n",
    "    print(\"Best parameters set found on development set:\")\n",
    "    print()\n",
    "    print(clf.best_params_)\n",
    "    print()\n",
    "    print(\"Grid scores on development set:\")\n",
    "    print()\n",
    "    means = clf.cv_results_['mean_test_score']\n",
    "    stds = clf.cv_results_['std_test_score']\n",
    "    for mean, std, params in zip(means, stds, clf.cv_results_['params']):\n",
    "        print(\"%0.3f (+/-%0.03f) for %r\"\n",
    "              % (mean, std * 2, params))\n",
    "    print()\n",
    "\n",
    "    print(\"Detailed classification report:\")\n",
    "    print()\n",
    "    print(\"The model is trained on the full development set.\")\n",
    "    print(\"The scores are computed on the full evaluation set.\")\n",
    "    print()\n",
    "    y_true, y_pred = y_test, clf.predict(X_test)\n",
    "    print(classification_report(y_true, y_pred))\n",
    "    print()"
   ]
  },
  {
   "cell_type": "code",
   "execution_count": null,
   "metadata": {},
   "outputs": [],
   "source": []
  },
  {
   "cell_type": "code",
   "execution_count": null,
   "metadata": {},
   "outputs": [],
   "source": []
  }
 ],
 "metadata": {
  "kernelspec": {
   "display_name": "Python 3",
   "language": "python",
   "name": "python3"
  },
  "language_info": {
   "codemirror_mode": {
    "name": "ipython",
    "version": 3
   },
   "file_extension": ".py",
   "mimetype": "text/x-python",
   "name": "python",
   "nbconvert_exporter": "python",
   "pygments_lexer": "ipython3",
   "version": "3.7.4"
  }
 },
 "nbformat": 4,
 "nbformat_minor": 2
}
